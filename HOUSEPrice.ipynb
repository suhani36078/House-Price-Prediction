{
  "nbformat": 4,
  "nbformat_minor": 0,
  "metadata": {
    "colab": {
      "provenance": []
    },
    "kernelspec": {
      "name": "python3",
      "display_name": "Python 3"
    },
    "language_info": {
      "name": "python"
    }
  },
  "cells": [
    {
      "cell_type": "code",
      "source": [
        "import pandas as pd\n",
        "\n",
        "file_path = '/content/data_with_missing.xlsx'\n",
        "data = pd.read_excel(file_path)\n",
        "\n",
        "# Show the first 5 rows\n",
        "print(data.head())\n",
        "\n",
        "# Check where missing values are\n",
        "print(\"\\nMissing values:\\n\", data.isnull().sum())\n",
        "\n",
        "# Select numeric columns\n",
        "numeric_cols = data.select_dtypes(include=['number']).columns\n",
        "print(\"Numeric columns:\", numeric_cols)\n",
        "\n",
        "# Fill missing values in numeric columns with their mean\n",
        "data[numeric_cols] = data[numeric_cols].fillna(data[numeric_cols].mean())\n",
        "\n",
        "# Show data after filling\n",
        "print(\"\\nData after filling numeric missing values:\\n\", data.head())"
      ],
      "metadata": {
        "colab": {
          "base_uri": "https://localhost:8080/"
        },
        "id": "NEyMaY69Gwtl",
        "outputId": "4bbc6e87-3535-49c5-fec9-1b6f2e0934e3"
      },
      "execution_count": null,
      "outputs": [
        {
          "output_type": "stream",
          "name": "stdout",
          "text": [
            "       price  bedrooms  bathrooms  sqft_living  sqft_lot  floors  condition  \\\n",
            "0   313000.0       3.0       1.50         1340      7912     1.5          3   \n",
            "1  2384000.0       5.0       2.50         3650      9050     2.0          5   \n",
            "2   342000.0       NaN       2.00         1930     11947     1.0          4   \n",
            "3   420000.0       NaN       2.25         2000      8030     1.0          4   \n",
            "4   550000.0       4.0       2.50         1940     10500     1.0          4   \n",
            "\n",
            "   sqft_above  sqft_basement  yr_built  yr_renovated  \\\n",
            "0        1340              0      1955          2005   \n",
            "1        3370            280      1921             0   \n",
            "2        1930              0      1966             0   \n",
            "3        1000           1000      1963             0   \n",
            "4        1140            800      1976          1992   \n",
            "\n",
            "                     street       city  statezip  Location  \n",
            "0      18810 Densmore Ave N  Shoreline  WA 98133  Downtown  \n",
            "1           709 W Blaine St    Seattle  WA 98119  Downtown  \n",
            "2  26206-26214 143rd Ave SE       Kent  WA 98042  Downtown  \n",
            "3           857 170th Pl NE   Bellevue  WA 98008  Suburban  \n",
            "4         9105 170th Ave NE    Redmond  WA 98052  Downtown  \n",
            "\n",
            "Missing values:\n",
            " price            105\n",
            "bedrooms          90\n",
            "bathrooms         96\n",
            "sqft_living        0\n",
            "sqft_lot           0\n",
            "floors             0\n",
            "condition          0\n",
            "sqft_above         0\n",
            "sqft_basement      0\n",
            "yr_built           0\n",
            "yr_renovated       0\n",
            "street             0\n",
            "city              93\n",
            "statezip           0\n",
            "Location           0\n",
            "dtype: int64\n",
            "Numeric columns: Index(['price', 'bedrooms', 'bathrooms', 'sqft_living', 'sqft_lot', 'floors',\n",
            "       'condition', 'sqft_above', 'sqft_basement', 'yr_built', 'yr_renovated'],\n",
            "      dtype='object')\n",
            "\n",
            "Data after filling numeric missing values:\n",
            "        price  bedrooms  bathrooms  sqft_living  sqft_lot  floors  condition  \\\n",
            "0   313000.0  3.000000       1.50         1340      7912     1.5          3   \n",
            "1  2384000.0  5.000000       2.50         3650      9050     2.0          5   \n",
            "2   342000.0  3.373494       2.00         1930     11947     1.0          4   \n",
            "3   420000.0  3.373494       2.25         2000      8030     1.0          4   \n",
            "4   550000.0  4.000000       2.50         1940     10500     1.0          4   \n",
            "\n",
            "   sqft_above  sqft_basement  yr_built  yr_renovated  \\\n",
            "0        1340              0      1955          2005   \n",
            "1        3370            280      1921             0   \n",
            "2        1930              0      1966             0   \n",
            "3        1000           1000      1963             0   \n",
            "4        1140            800      1976          1992   \n",
            "\n",
            "                     street       city  statezip  Location  \n",
            "0      18810 Densmore Ave N  Shoreline  WA 98133  Downtown  \n",
            "1           709 W Blaine St    Seattle  WA 98119  Downtown  \n",
            "2  26206-26214 143rd Ave SE       Kent  WA 98042  Downtown  \n",
            "3           857 170th Pl NE   Bellevue  WA 98008  Suburban  \n",
            "4         9105 170th Ave NE    Redmond  WA 98052  Downtown  \n"
          ]
        }
      ]
    },
    {
      "cell_type": "code",
      "source": [],
      "metadata": {
        "id": "eKpw5rw0kXR1"
      },
      "execution_count": null,
      "outputs": []
    },
    {
      "cell_type": "code",
      "source": [
        "#QUES 1-- HOUSE PRICE PREDICTION\n",
        "# 1. Import necessary libraries\n",
        "import numpy as np\n",
        "import pandas as pd\n",
        "import matplotlib.pyplot as plt\n",
        "from sklearn.model_selection import train_test_split\n",
        "from sklearn.linear_model import LinearRegression\n",
        "from sklearn.preprocessing import LabelEncoder\n",
        "from sklearn.metrics import mean_squared_error, r2_score\n",
        "\n",
        "# 2. Load the dataset\n",
        "file_path = '/content/DATA.xlsx'\n",
        "data = pd.read_excel(file_path)\n",
        "\n",
        "# 3. Preprocess Data\n",
        "print(data.head())\n",
        "\n",
        "# Remove empty strings\n",
        "data = data.replace(' ', np.nan)\n",
        "\n",
        "# Fill missing numerical values\n",
        "data = data.fillna(data.mean(numeric_only=True))\n",
        "\n",
        "# Fill missing categorical values\n",
        "if 'Location' in data.columns:\n",
        "    data['Location'] = data['Location'].fillna(data['Location'].mode()[0])\n",
        "\n",
        "# Encode categorical features\n",
        "le = LabelEncoder()\n",
        "if data['Location'].dtype == 'object' or data['Location'].dtype.name == 'category':\n",
        "    data['Location'] = le.fit_transform(data['Location'])\n",
        "\n",
        "# 4. Define Features and Target\n",
        "X = data.drop('price', axis=1)\n",
        "y = data['price']\n",
        "\n",
        "# 5. Split the dataset\n",
        "X_train, X_test, y_train, y_test = train_test_split(X, y, test_size=0.2, random_state=42)\n",
        "\n",
        "# 6. Build and Train the Linear Regression model\n",
        "model = LinearRegression()\n",
        "model.fit(X_train, y_train)\n",
        "\n",
        "# 7. Make Predictions\n",
        "y_pred = model.predict(X_test)\n",
        "\n",
        "# 8. Evaluate the model\n",
        "r2 = r2_score(y_test, y_pred)\n",
        "rmse = np.sqrt(mean_squared_error(y_test, y_pred))\n",
        "print(f\"R² Score: {r2:.4f}\")\n",
        "print(f\"RMSE: {rmse:.2f}\")\n",
        "\n",
        "# 9. Visualize the predictions\n",
        "plt.scatter(y_test, y_pred, color='blue')\n",
        "plt.plot([y.min(), y.max()], [y.min(), y.max()], color='red')\n",
        "plt.xlabel('Actual Prices')\n",
        "plt.ylabel('Predicted Prices')\n",
        "plt.title('Actual vs Predicted House Prices')\n",
        "plt.show()\n"
      ],
      "metadata": {
        "colab": {
          "base_uri": "https://localhost:8080/",
          "height": 787
        },
        "id": "deLgrq5O8gu1",
        "outputId": "e11c9602-cf8e-4a62-ce34-ae5f8efb27f7"
      },
      "execution_count": null,
      "outputs": [
        {
          "output_type": "stream",
          "name": "stdout",
          "text": [
            "       price bedrooms  bathrooms  sqft_living  sqft_lot  floors  condition  \\\n",
            "0   313000.0        3       1.50       1340.0    7912.0     1.5        3.0   \n",
            "1  2384000.0        5       2.50       3650.0    9050.0     2.0        5.0   \n",
            "2   342000.0      NaN       2.00       1930.0   11947.0     1.0        4.0   \n",
            "3   420000.0      NaN       2.25       2000.0    8030.0     1.0        4.0   \n",
            "4   550000.0        4       2.50       1940.0   10500.0     1.0        4.0   \n",
            "\n",
            "   sqft_above  sqft_basement  Location  \n",
            "0      1340.0            0.0  Downtown  \n",
            "1      3370.0          280.0  Downtown  \n",
            "2      1930.0            0.0  Downtown  \n",
            "3      1000.0         1000.0  Suburban  \n",
            "4      1140.0          800.0  Downtown  \n",
            "R² Score: 0.4386\n",
            "RMSE: 165096.78\n"
          ]
        },
        {
          "output_type": "stream",
          "name": "stderr",
          "text": [
            "<ipython-input-7-7caae36431c3>:19: FutureWarning: Downcasting behavior in `replace` is deprecated and will be removed in a future version. To retain the old behavior, explicitly call `result.infer_objects(copy=False)`. To opt-in to the future behavior, set `pd.set_option('future.no_silent_downcasting', True)`\n",
            "  data = data.replace(' ', np.nan)\n"
          ]
        },
        {
          "output_type": "display_data",
          "data": {
            "text/plain": [
              "<Figure size 640x480 with 1 Axes>"
            ],
            "image/png": "[encoded data removed]"
          },
          "metadata": {}
        }
      ]
    }
  ]
}